{
 "cells": [
  {
   "cell_type": "markdown",
   "metadata": {},
   "source": [
    "## Libraries"
   ]
  },
  {
   "cell_type": "code",
   "execution_count": 9,
   "metadata": {},
   "outputs": [
    {
     "ename": "ModuleNotFoundError",
     "evalue": "No module named 'plotly'",
     "output_type": "error",
     "traceback": [
      "\u001b[0;31m---------------------------------------------------------------------------\u001b[0m",
      "\u001b[0;31mModuleNotFoundError\u001b[0m                       Traceback (most recent call last)",
      "\u001b[0;32m<ipython-input-9-c5a1c45b5795>\u001b[0m in \u001b[0;36m<module>\u001b[0;34m()\u001b[0m\n\u001b[1;32m      4\u001b[0m \u001b[0;32mimport\u001b[0m \u001b[0mmatplotlib\u001b[0m\u001b[0;34m.\u001b[0m\u001b[0mpyplot\u001b[0m \u001b[0;32mas\u001b[0m \u001b[0mplt\u001b[0m\u001b[0;34m\u001b[0m\u001b[0m\n\u001b[1;32m      5\u001b[0m \u001b[0mget_ipython\u001b[0m\u001b[0;34m(\u001b[0m\u001b[0;34m)\u001b[0m\u001b[0;34m.\u001b[0m\u001b[0mmagic\u001b[0m\u001b[0;34m(\u001b[0m\u001b[0;34m'matplotlib inline'\u001b[0m\u001b[0;34m)\u001b[0m\u001b[0;34m\u001b[0m\u001b[0m\n\u001b[0;32m----> 6\u001b[0;31m \u001b[0;32mimport\u001b[0m \u001b[0mplotly\u001b[0m\u001b[0;34m.\u001b[0m\u001b[0mexpress\u001b[0m \u001b[0;32mas\u001b[0m \u001b[0mpx\u001b[0m\u001b[0;34m\u001b[0m\u001b[0m\n\u001b[0m",
      "\u001b[0;31mModuleNotFoundError\u001b[0m: No module named 'plotly'"
     ]
    }
   ],
   "source": [
    "import pandas as pd\n",
    "import numpy as np\n",
    "import seaborn as sns\n",
    "import matplotlib.pyplot as plt\n",
    "%matplotlib inline\n",
    "import plotly.express as px"
   ]
  },
  {
   "cell_type": "markdown",
   "metadata": {},
   "source": [
    "## Import csv"
   ]
  },
  {
   "cell_type": "code",
   "execution_count": 25,
   "metadata": {
    "collapsed": true
   },
   "outputs": [],
   "source": [
    "hp = pd.read_csv('../datasets/happiness_cleaned.csv', index_col = 0)"
   ]
  },
  {
   "cell_type": "markdown",
   "metadata": {},
   "source": [
    "## Analysis"
   ]
  },
  {
   "cell_type": "code",
   "execution_count": 60,
   "metadata": {
    "collapsed": true
   },
   "outputs": [],
   "source": [
    "hp = hp[['Country','Ranking','Happiness_Score','GDP_Capita','Family','Life_Expectancy','Freedom','Generosity','Government_Corruption','Dystopia.Residual']]        "
   ]
  },
  {
   "cell_type": "code",
   "execution_count": 61,
   "metadata": {},
   "outputs": [
    {
     "data": {
      "text/html": [
       "<div>\n",
       "<style>\n",
       "    .dataframe thead tr:only-child th {\n",
       "        text-align: right;\n",
       "    }\n",
       "\n",
       "    .dataframe thead th {\n",
       "        text-align: left;\n",
       "    }\n",
       "\n",
       "    .dataframe tbody tr th {\n",
       "        vertical-align: top;\n",
       "    }\n",
       "</style>\n",
       "<table border=\"1\" class=\"dataframe\">\n",
       "  <thead>\n",
       "    <tr style=\"text-align: right;\">\n",
       "      <th></th>\n",
       "      <th>Ranking</th>\n",
       "      <th>Happiness_Score</th>\n",
       "      <th>GDP_Capita</th>\n",
       "      <th>Family</th>\n",
       "      <th>Life_Expectancy</th>\n",
       "      <th>Freedom</th>\n",
       "      <th>Generosity</th>\n",
       "      <th>Government_Corruption</th>\n",
       "      <th>Dystopia.Residual</th>\n",
       "    </tr>\n",
       "  </thead>\n",
       "  <tbody>\n",
       "    <tr>\n",
       "      <th>count</th>\n",
       "      <td>154.000000</td>\n",
       "      <td>154.000000</td>\n",
       "      <td>154.000000</td>\n",
       "      <td>154.000000</td>\n",
       "      <td>153.000000</td>\n",
       "      <td>153.000000</td>\n",
       "      <td>153.000000</td>\n",
       "      <td>153.000000</td>\n",
       "      <td>154.000000</td>\n",
       "    </tr>\n",
       "    <tr>\n",
       "      <th>mean</th>\n",
       "      <td>77.500000</td>\n",
       "      <td>5.371299</td>\n",
       "      <td>0.991112</td>\n",
       "      <td>1.196618</td>\n",
       "      <td>0.558425</td>\n",
       "      <td>0.412359</td>\n",
       "      <td>0.248275</td>\n",
       "      <td>0.124360</td>\n",
       "      <td>1.848837</td>\n",
       "    </tr>\n",
       "    <tr>\n",
       "      <th>std</th>\n",
       "      <td>44.600075</td>\n",
       "      <td>1.114210</td>\n",
       "      <td>0.414542</td>\n",
       "      <td>0.271590</td>\n",
       "      <td>0.230275</td>\n",
       "      <td>0.146826</td>\n",
       "      <td>0.134143</td>\n",
       "      <td>0.101688</td>\n",
       "      <td>0.501354</td>\n",
       "    </tr>\n",
       "    <tr>\n",
       "      <th>min</th>\n",
       "      <td>1.000000</td>\n",
       "      <td>2.905000</td>\n",
       "      <td>0.022643</td>\n",
       "      <td>0.396103</td>\n",
       "      <td>0.005565</td>\n",
       "      <td>0.014996</td>\n",
       "      <td>0.010165</td>\n",
       "      <td>0.004388</td>\n",
       "      <td>0.377914</td>\n",
       "    </tr>\n",
       "    <tr>\n",
       "      <th>25%</th>\n",
       "      <td>39.250000</td>\n",
       "      <td>4.519250</td>\n",
       "      <td>0.679481</td>\n",
       "      <td>1.049448</td>\n",
       "      <td>0.397523</td>\n",
       "      <td>0.309410</td>\n",
       "      <td>0.155138</td>\n",
       "      <td>0.059308</td>\n",
       "      <td>1.587952</td>\n",
       "    </tr>\n",
       "    <tr>\n",
       "      <th>50%</th>\n",
       "      <td>77.500000</td>\n",
       "      <td>5.286000</td>\n",
       "      <td>1.066948</td>\n",
       "      <td>1.254751</td>\n",
       "      <td>0.613212</td>\n",
       "      <td>0.440306</td>\n",
       "      <td>0.231538</td>\n",
       "      <td>0.089981</td>\n",
       "      <td>1.829808</td>\n",
       "    </tr>\n",
       "    <tr>\n",
       "      <th>75%</th>\n",
       "      <td>115.750000</td>\n",
       "      <td>6.103250</td>\n",
       "      <td>1.319453</td>\n",
       "      <td>1.415360</td>\n",
       "      <td>0.726798</td>\n",
       "      <td>0.518631</td>\n",
       "      <td>0.325296</td>\n",
       "      <td>0.153527</td>\n",
       "      <td>2.147727</td>\n",
       "    </tr>\n",
       "    <tr>\n",
       "      <th>max</th>\n",
       "      <td>154.000000</td>\n",
       "      <td>7.537000</td>\n",
       "      <td>1.870766</td>\n",
       "      <td>1.610574</td>\n",
       "      <td>0.949492</td>\n",
       "      <td>0.658249</td>\n",
       "      <td>0.838075</td>\n",
       "      <td>0.464308</td>\n",
       "      <td>3.117485</td>\n",
       "    </tr>\n",
       "  </tbody>\n",
       "</table>\n",
       "</div>"
      ],
      "text/plain": [
       "          Ranking  Happiness_Score  GDP_Capita      Family  Life_Expectancy  \\\n",
       "count  154.000000       154.000000  154.000000  154.000000       153.000000   \n",
       "mean    77.500000         5.371299    0.991112    1.196618         0.558425   \n",
       "std     44.600075         1.114210    0.414542    0.271590         0.230275   \n",
       "min      1.000000         2.905000    0.022643    0.396103         0.005565   \n",
       "25%     39.250000         4.519250    0.679481    1.049448         0.397523   \n",
       "50%     77.500000         5.286000    1.066948    1.254751         0.613212   \n",
       "75%    115.750000         6.103250    1.319453    1.415360         0.726798   \n",
       "max    154.000000         7.537000    1.870766    1.610574         0.949492   \n",
       "\n",
       "          Freedom  Generosity  Government_Corruption  Dystopia.Residual  \n",
       "count  153.000000  153.000000             153.000000         154.000000  \n",
       "mean     0.412359    0.248275               0.124360           1.848837  \n",
       "std      0.146826    0.134143               0.101688           0.501354  \n",
       "min      0.014996    0.010165               0.004388           0.377914  \n",
       "25%      0.309410    0.155138               0.059308           1.587952  \n",
       "50%      0.440306    0.231538               0.089981           1.829808  \n",
       "75%      0.518631    0.325296               0.153527           2.147727  \n",
       "max      0.658249    0.838075               0.464308           3.117485  "
      ]
     },
     "execution_count": 61,
     "metadata": {},
     "output_type": "execute_result"
    }
   ],
   "source": [
    "hp.describe()"
   ]
  },
  {
   "cell_type": "code",
   "execution_count": 76,
   "metadata": {
    "collapsed": true
   },
   "outputs": [],
   "source": [
    "# The mean of the Happiness Score is 5.35"
   ]
  },
  {
   "cell_type": "markdown",
   "metadata": {},
   "source": [
    "### First let's see the top 10 happiest countries according to this dataset:\n"
   ]
  },
  {
   "cell_type": "code",
   "execution_count": 53,
   "metadata": {
    "collapsed": true
   },
   "outputs": [],
   "source": [
    "happiest = hp.groupby(\"Country\").sum().sort_values(\"Happiness_Score\", ascending=False)\n"
   ]
  },
  {
   "cell_type": "code",
   "execution_count": 54,
   "metadata": {
    "collapsed": true
   },
   "outputs": [],
   "source": [
    "top_10 = happiest[0:10]"
   ]
  },
  {
   "cell_type": "code",
   "execution_count": 135,
   "metadata": {},
   "outputs": [
    {
     "data": {
      "text/html": [
       "<div>\n",
       "<style>\n",
       "    .dataframe thead tr:only-child th {\n",
       "        text-align: right;\n",
       "    }\n",
       "\n",
       "    .dataframe thead th {\n",
       "        text-align: left;\n",
       "    }\n",
       "\n",
       "    .dataframe tbody tr th {\n",
       "        vertical-align: top;\n",
       "    }\n",
       "</style>\n",
       "<table border=\"1\" class=\"dataframe\">\n",
       "  <thead>\n",
       "    <tr style=\"text-align: right;\">\n",
       "      <th></th>\n",
       "      <th>Ranking</th>\n",
       "      <th>Happiness_Score</th>\n",
       "      <th>GDP_Capita</th>\n",
       "      <th>Family</th>\n",
       "      <th>Life_Expectancy</th>\n",
       "      <th>Freedom</th>\n",
       "      <th>Generosity</th>\n",
       "      <th>Government_Corruption</th>\n",
       "      <th>Dystopia.Residual</th>\n",
       "    </tr>\n",
       "    <tr>\n",
       "      <th>Country</th>\n",
       "      <th></th>\n",
       "      <th></th>\n",
       "      <th></th>\n",
       "      <th></th>\n",
       "      <th></th>\n",
       "      <th></th>\n",
       "      <th></th>\n",
       "      <th></th>\n",
       "      <th></th>\n",
       "    </tr>\n",
       "  </thead>\n",
       "  <tbody>\n",
       "    <tr>\n",
       "      <th>Norway</th>\n",
       "      <td>1</td>\n",
       "      <td>7.537</td>\n",
       "      <td>1.616463</td>\n",
       "      <td>1.533524</td>\n",
       "      <td>0.796667</td>\n",
       "      <td>0.635423</td>\n",
       "      <td>0.362012</td>\n",
       "      <td>0.315964</td>\n",
       "      <td>2.277027</td>\n",
       "    </tr>\n",
       "    <tr>\n",
       "      <th>Denmark</th>\n",
       "      <td>2</td>\n",
       "      <td>7.522</td>\n",
       "      <td>1.482383</td>\n",
       "      <td>1.551122</td>\n",
       "      <td>0.792566</td>\n",
       "      <td>0.626007</td>\n",
       "      <td>0.355280</td>\n",
       "      <td>0.400770</td>\n",
       "      <td>2.313707</td>\n",
       "    </tr>\n",
       "    <tr>\n",
       "      <th>Iceland</th>\n",
       "      <td>3</td>\n",
       "      <td>7.504</td>\n",
       "      <td>1.480633</td>\n",
       "      <td>1.610574</td>\n",
       "      <td>0.833552</td>\n",
       "      <td>0.627163</td>\n",
       "      <td>0.475540</td>\n",
       "      <td>0.153527</td>\n",
       "      <td>2.322715</td>\n",
       "    </tr>\n",
       "    <tr>\n",
       "      <th>Switzerland</th>\n",
       "      <td>4</td>\n",
       "      <td>7.494</td>\n",
       "      <td>1.564980</td>\n",
       "      <td>1.516912</td>\n",
       "      <td>0.858131</td>\n",
       "      <td>0.620071</td>\n",
       "      <td>0.290549</td>\n",
       "      <td>0.367007</td>\n",
       "      <td>2.276716</td>\n",
       "    </tr>\n",
       "    <tr>\n",
       "      <th>Finland</th>\n",
       "      <td>5</td>\n",
       "      <td>7.469</td>\n",
       "      <td>1.443572</td>\n",
       "      <td>1.540247</td>\n",
       "      <td>0.809158</td>\n",
       "      <td>0.617951</td>\n",
       "      <td>0.245483</td>\n",
       "      <td>0.382612</td>\n",
       "      <td>2.430182</td>\n",
       "    </tr>\n",
       "    <tr>\n",
       "      <th>Netherlands</th>\n",
       "      <td>6</td>\n",
       "      <td>7.377</td>\n",
       "      <td>1.503945</td>\n",
       "      <td>1.428939</td>\n",
       "      <td>0.810696</td>\n",
       "      <td>0.585384</td>\n",
       "      <td>0.470490</td>\n",
       "      <td>0.282662</td>\n",
       "      <td>2.294804</td>\n",
       "    </tr>\n",
       "    <tr>\n",
       "      <th>Canada</th>\n",
       "      <td>7</td>\n",
       "      <td>7.316</td>\n",
       "      <td>1.479204</td>\n",
       "      <td>1.481349</td>\n",
       "      <td>0.834558</td>\n",
       "      <td>0.611101</td>\n",
       "      <td>0.435540</td>\n",
       "      <td>0.287372</td>\n",
       "      <td>2.187264</td>\n",
       "    </tr>\n",
       "    <tr>\n",
       "      <th>New Zealand</th>\n",
       "      <td>8</td>\n",
       "      <td>7.314</td>\n",
       "      <td>1.405706</td>\n",
       "      <td>1.548195</td>\n",
       "      <td>0.816760</td>\n",
       "      <td>0.614062</td>\n",
       "      <td>0.500005</td>\n",
       "      <td>0.382817</td>\n",
       "      <td>2.046456</td>\n",
       "    </tr>\n",
       "    <tr>\n",
       "      <th>Australia</th>\n",
       "      <td>10</td>\n",
       "      <td>7.284</td>\n",
       "      <td>1.484415</td>\n",
       "      <td>1.510042</td>\n",
       "      <td>0.843887</td>\n",
       "      <td>0.601607</td>\n",
       "      <td>0.477699</td>\n",
       "      <td>0.301184</td>\n",
       "      <td>2.065211</td>\n",
       "    </tr>\n",
       "    <tr>\n",
       "      <th>Sweden</th>\n",
       "      <td>9</td>\n",
       "      <td>7.284</td>\n",
       "      <td>1.494387</td>\n",
       "      <td>1.478162</td>\n",
       "      <td>0.830875</td>\n",
       "      <td>0.612924</td>\n",
       "      <td>0.385399</td>\n",
       "      <td>0.384399</td>\n",
       "      <td>2.097538</td>\n",
       "    </tr>\n",
       "  </tbody>\n",
       "</table>\n",
       "</div>"
      ],
      "text/plain": [
       "             Ranking  Happiness_Score  GDP_Capita    Family  Life_Expectancy  \\\n",
       "Country                                                                        \n",
       "Norway             1            7.537    1.616463  1.533524         0.796667   \n",
       "Denmark            2            7.522    1.482383  1.551122         0.792566   \n",
       "Iceland            3            7.504    1.480633  1.610574         0.833552   \n",
       "Switzerland        4            7.494    1.564980  1.516912         0.858131   \n",
       "Finland            5            7.469    1.443572  1.540247         0.809158   \n",
       "Netherlands        6            7.377    1.503945  1.428939         0.810696   \n",
       "Canada             7            7.316    1.479204  1.481349         0.834558   \n",
       "New Zealand        8            7.314    1.405706  1.548195         0.816760   \n",
       "Australia         10            7.284    1.484415  1.510042         0.843887   \n",
       "Sweden             9            7.284    1.494387  1.478162         0.830875   \n",
       "\n",
       "              Freedom  Generosity  Government_Corruption  Dystopia.Residual  \n",
       "Country                                                                      \n",
       "Norway       0.635423    0.362012               0.315964           2.277027  \n",
       "Denmark      0.626007    0.355280               0.400770           2.313707  \n",
       "Iceland      0.627163    0.475540               0.153527           2.322715  \n",
       "Switzerland  0.620071    0.290549               0.367007           2.276716  \n",
       "Finland      0.617951    0.245483               0.382612           2.430182  \n",
       "Netherlands  0.585384    0.470490               0.282662           2.294804  \n",
       "Canada       0.611101    0.435540               0.287372           2.187264  \n",
       "New Zealand  0.614062    0.500005               0.382817           2.046456  \n",
       "Australia    0.601607    0.477699               0.301184           2.065211  \n",
       "Sweden       0.612924    0.385399               0.384399           2.097538  "
      ]
     },
     "execution_count": 135,
     "metadata": {},
     "output_type": "execute_result"
    }
   ],
   "source": [
    "top_10"
   ]
  },
  {
   "cell_type": "markdown",
   "metadata": {},
   "source": [
    "### Now let's check the 10 countries less happy according to this index:"
   ]
  },
  {
   "cell_type": "code",
   "execution_count": 55,
   "metadata": {
    "collapsed": true
   },
   "outputs": [],
   "source": [
    "no_happiest = hp.groupby(\"Country\").sum().sort_values(\"Happiness_Score\")\n"
   ]
  },
  {
   "cell_type": "code",
   "execution_count": 56,
   "metadata": {
    "collapsed": true
   },
   "outputs": [],
   "source": [
    "# we won't take into consideration Central African Republic because \n",
    "# has two NaN values on the variables so I don't trust it.\n",
    "# I'll drop this row:\n",
    "hp = hp[hp.Country != 'Central African Republic']"
   ]
  },
  {
   "cell_type": "code",
   "execution_count": 59,
   "metadata": {
    "collapsed": true
   },
   "outputs": [],
   "source": [
    "botton_10 = no_happiest[0:10]"
   ]
  },
  {
   "cell_type": "code",
   "execution_count": 134,
   "metadata": {},
   "outputs": [
    {
     "data": {
      "text/html": [
       "<div>\n",
       "<style>\n",
       "    .dataframe thead tr:only-child th {\n",
       "        text-align: right;\n",
       "    }\n",
       "\n",
       "    .dataframe thead th {\n",
       "        text-align: left;\n",
       "    }\n",
       "\n",
       "    .dataframe tbody tr th {\n",
       "        vertical-align: top;\n",
       "    }\n",
       "</style>\n",
       "<table border=\"1\" class=\"dataframe\">\n",
       "  <thead>\n",
       "    <tr style=\"text-align: right;\">\n",
       "      <th></th>\n",
       "      <th>Ranking</th>\n",
       "      <th>Happiness_Score</th>\n",
       "      <th>GDP_Capita</th>\n",
       "      <th>Family</th>\n",
       "      <th>Life_Expectancy</th>\n",
       "      <th>Freedom</th>\n",
       "      <th>Generosity</th>\n",
       "      <th>Government_Corruption</th>\n",
       "      <th>Dystopia.Residual</th>\n",
       "    </tr>\n",
       "    <tr>\n",
       "      <th>Country</th>\n",
       "      <th></th>\n",
       "      <th></th>\n",
       "      <th></th>\n",
       "      <th></th>\n",
       "      <th></th>\n",
       "      <th></th>\n",
       "      <th></th>\n",
       "      <th></th>\n",
       "      <th></th>\n",
       "    </tr>\n",
       "  </thead>\n",
       "  <tbody>\n",
       "    <tr>\n",
       "      <th>Burundi</th>\n",
       "      <td>154</td>\n",
       "      <td>2.905</td>\n",
       "      <td>0.091623</td>\n",
       "      <td>0.629794</td>\n",
       "      <td>0.151611</td>\n",
       "      <td>0.059901</td>\n",
       "      <td>0.204435</td>\n",
       "      <td>0.084148</td>\n",
       "      <td>1.683024</td>\n",
       "    </tr>\n",
       "    <tr>\n",
       "      <th>Tanzania</th>\n",
       "      <td>153</td>\n",
       "      <td>3.349</td>\n",
       "      <td>0.511136</td>\n",
       "      <td>1.041990</td>\n",
       "      <td>0.364509</td>\n",
       "      <td>0.390018</td>\n",
       "      <td>0.354256</td>\n",
       "      <td>0.066035</td>\n",
       "      <td>0.621130</td>\n",
       "    </tr>\n",
       "    <tr>\n",
       "      <th>Syria</th>\n",
       "      <td>152</td>\n",
       "      <td>3.462</td>\n",
       "      <td>0.777153</td>\n",
       "      <td>0.396103</td>\n",
       "      <td>0.500533</td>\n",
       "      <td>0.081539</td>\n",
       "      <td>0.493664</td>\n",
       "      <td>0.151347</td>\n",
       "      <td>1.061574</td>\n",
       "    </tr>\n",
       "    <tr>\n",
       "      <th>Rwanda</th>\n",
       "      <td>151</td>\n",
       "      <td>3.471</td>\n",
       "      <td>0.368746</td>\n",
       "      <td>0.945707</td>\n",
       "      <td>0.326425</td>\n",
       "      <td>0.581844</td>\n",
       "      <td>0.252756</td>\n",
       "      <td>0.455220</td>\n",
       "      <td>0.540061</td>\n",
       "    </tr>\n",
       "    <tr>\n",
       "      <th>Togo</th>\n",
       "      <td>150</td>\n",
       "      <td>3.495</td>\n",
       "      <td>0.305445</td>\n",
       "      <td>0.431883</td>\n",
       "      <td>0.247106</td>\n",
       "      <td>0.380426</td>\n",
       "      <td>0.196896</td>\n",
       "      <td>0.095665</td>\n",
       "      <td>1.837229</td>\n",
       "    </tr>\n",
       "    <tr>\n",
       "      <th>Guinea</th>\n",
       "      <td>149</td>\n",
       "      <td>3.507</td>\n",
       "      <td>0.244550</td>\n",
       "      <td>0.791245</td>\n",
       "      <td>0.194129</td>\n",
       "      <td>0.348588</td>\n",
       "      <td>0.264815</td>\n",
       "      <td>0.110938</td>\n",
       "      <td>1.552312</td>\n",
       "    </tr>\n",
       "    <tr>\n",
       "      <th>Liberia</th>\n",
       "      <td>148</td>\n",
       "      <td>3.533</td>\n",
       "      <td>0.119042</td>\n",
       "      <td>0.872118</td>\n",
       "      <td>0.229918</td>\n",
       "      <td>0.332881</td>\n",
       "      <td>0.266550</td>\n",
       "      <td>0.038948</td>\n",
       "      <td>1.673286</td>\n",
       "    </tr>\n",
       "    <tr>\n",
       "      <th>South Sudan</th>\n",
       "      <td>147</td>\n",
       "      <td>3.591</td>\n",
       "      <td>0.397249</td>\n",
       "      <td>0.601323</td>\n",
       "      <td>0.163486</td>\n",
       "      <td>0.147062</td>\n",
       "      <td>0.285671</td>\n",
       "      <td>0.116794</td>\n",
       "      <td>1.879567</td>\n",
       "    </tr>\n",
       "    <tr>\n",
       "      <th>Yemen</th>\n",
       "      <td>146</td>\n",
       "      <td>3.593</td>\n",
       "      <td>0.591683</td>\n",
       "      <td>0.935382</td>\n",
       "      <td>0.310081</td>\n",
       "      <td>0.249464</td>\n",
       "      <td>0.104125</td>\n",
       "      <td>0.056767</td>\n",
       "      <td>1.345601</td>\n",
       "    </tr>\n",
       "    <tr>\n",
       "      <th>Haiti</th>\n",
       "      <td>145</td>\n",
       "      <td>3.603</td>\n",
       "      <td>0.368610</td>\n",
       "      <td>0.640450</td>\n",
       "      <td>0.277321</td>\n",
       "      <td>0.030370</td>\n",
       "      <td>0.489204</td>\n",
       "      <td>0.099872</td>\n",
       "      <td>1.697168</td>\n",
       "    </tr>\n",
       "  </tbody>\n",
       "</table>\n",
       "</div>"
      ],
      "text/plain": [
       "             Ranking  Happiness_Score  GDP_Capita    Family  Life_Expectancy  \\\n",
       "Country                                                                        \n",
       "Burundi          154            2.905    0.091623  0.629794         0.151611   \n",
       "Tanzania         153            3.349    0.511136  1.041990         0.364509   \n",
       "Syria            152            3.462    0.777153  0.396103         0.500533   \n",
       "Rwanda           151            3.471    0.368746  0.945707         0.326425   \n",
       "Togo             150            3.495    0.305445  0.431883         0.247106   \n",
       "Guinea           149            3.507    0.244550  0.791245         0.194129   \n",
       "Liberia          148            3.533    0.119042  0.872118         0.229918   \n",
       "South Sudan      147            3.591    0.397249  0.601323         0.163486   \n",
       "Yemen            146            3.593    0.591683  0.935382         0.310081   \n",
       "Haiti            145            3.603    0.368610  0.640450         0.277321   \n",
       "\n",
       "              Freedom  Generosity  Government_Corruption  Dystopia.Residual  \n",
       "Country                                                                      \n",
       "Burundi      0.059901    0.204435               0.084148           1.683024  \n",
       "Tanzania     0.390018    0.354256               0.066035           0.621130  \n",
       "Syria        0.081539    0.493664               0.151347           1.061574  \n",
       "Rwanda       0.581844    0.252756               0.455220           0.540061  \n",
       "Togo         0.380426    0.196896               0.095665           1.837229  \n",
       "Guinea       0.348588    0.264815               0.110938           1.552312  \n",
       "Liberia      0.332881    0.266550               0.038948           1.673286  \n",
       "South Sudan  0.147062    0.285671               0.116794           1.879567  \n",
       "Yemen        0.249464    0.104125               0.056767           1.345601  \n",
       "Haiti        0.030370    0.489204               0.099872           1.697168  "
      ]
     },
     "execution_count": 134,
     "metadata": {},
     "output_type": "execute_result"
    }
   ],
   "source": [
    "botton_10"
   ]
  },
  {
   "cell_type": "markdown",
   "metadata": {},
   "source": [
    "## ((((TABLEAU MAPA)))) done"
   ]
  },
  {
   "cell_type": "markdown",
   "metadata": {},
   "source": [
    "### What are the variables that conform this index and wich ones are the most important ones"
   ]
  },
  {
   "cell_type": "code",
   "execution_count": 86,
   "metadata": {},
   "outputs": [
    {
     "data": {
      "text/html": [
       "<div>\n",
       "<style>\n",
       "    .dataframe thead tr:only-child th {\n",
       "        text-align: right;\n",
       "    }\n",
       "\n",
       "    .dataframe thead th {\n",
       "        text-align: left;\n",
       "    }\n",
       "\n",
       "    .dataframe tbody tr th {\n",
       "        vertical-align: top;\n",
       "    }\n",
       "</style>\n",
       "<table border=\"1\" class=\"dataframe\">\n",
       "  <thead>\n",
       "    <tr style=\"text-align: right;\">\n",
       "      <th></th>\n",
       "      <th>GDP_Capita</th>\n",
       "      <th>Family</th>\n",
       "      <th>Life_Expectancy</th>\n",
       "      <th>Freedom</th>\n",
       "      <th>Generosity</th>\n",
       "      <th>Government_Corruption</th>\n",
       "      <th>Dystopia.Residual</th>\n",
       "    </tr>\n",
       "  </thead>\n",
       "  <tbody>\n",
       "    <tr>\n",
       "      <th>count</th>\n",
       "      <td>154.000000</td>\n",
       "      <td>154.000000</td>\n",
       "      <td>153.000000</td>\n",
       "      <td>153.000000</td>\n",
       "      <td>153.000000</td>\n",
       "      <td>153.000000</td>\n",
       "      <td>154.000000</td>\n",
       "    </tr>\n",
       "    <tr>\n",
       "      <th>mean</th>\n",
       "      <td>0.991112</td>\n",
       "      <td>1.196618</td>\n",
       "      <td>0.558425</td>\n",
       "      <td>0.412359</td>\n",
       "      <td>0.248275</td>\n",
       "      <td>0.124360</td>\n",
       "      <td>1.848837</td>\n",
       "    </tr>\n",
       "    <tr>\n",
       "      <th>std</th>\n",
       "      <td>0.414542</td>\n",
       "      <td>0.271590</td>\n",
       "      <td>0.230275</td>\n",
       "      <td>0.146826</td>\n",
       "      <td>0.134143</td>\n",
       "      <td>0.101688</td>\n",
       "      <td>0.501354</td>\n",
       "    </tr>\n",
       "    <tr>\n",
       "      <th>min</th>\n",
       "      <td>0.022643</td>\n",
       "      <td>0.396103</td>\n",
       "      <td>0.005565</td>\n",
       "      <td>0.014996</td>\n",
       "      <td>0.010165</td>\n",
       "      <td>0.004388</td>\n",
       "      <td>0.377914</td>\n",
       "    </tr>\n",
       "    <tr>\n",
       "      <th>25%</th>\n",
       "      <td>0.679481</td>\n",
       "      <td>1.049448</td>\n",
       "      <td>0.397523</td>\n",
       "      <td>0.309410</td>\n",
       "      <td>0.155138</td>\n",
       "      <td>0.059308</td>\n",
       "      <td>1.587952</td>\n",
       "    </tr>\n",
       "    <tr>\n",
       "      <th>50%</th>\n",
       "      <td>1.066948</td>\n",
       "      <td>1.254751</td>\n",
       "      <td>0.613212</td>\n",
       "      <td>0.440306</td>\n",
       "      <td>0.231538</td>\n",
       "      <td>0.089981</td>\n",
       "      <td>1.829808</td>\n",
       "    </tr>\n",
       "    <tr>\n",
       "      <th>75%</th>\n",
       "      <td>1.319453</td>\n",
       "      <td>1.415360</td>\n",
       "      <td>0.726798</td>\n",
       "      <td>0.518631</td>\n",
       "      <td>0.325296</td>\n",
       "      <td>0.153527</td>\n",
       "      <td>2.147727</td>\n",
       "    </tr>\n",
       "    <tr>\n",
       "      <th>max</th>\n",
       "      <td>1.870766</td>\n",
       "      <td>1.610574</td>\n",
       "      <td>0.949492</td>\n",
       "      <td>0.658249</td>\n",
       "      <td>0.838075</td>\n",
       "      <td>0.464308</td>\n",
       "      <td>3.117485</td>\n",
       "    </tr>\n",
       "  </tbody>\n",
       "</table>\n",
       "</div>"
      ],
      "text/plain": [
       "       GDP_Capita      Family  Life_Expectancy     Freedom  Generosity  \\\n",
       "count  154.000000  154.000000       153.000000  153.000000  153.000000   \n",
       "mean     0.991112    1.196618         0.558425    0.412359    0.248275   \n",
       "std      0.414542    0.271590         0.230275    0.146826    0.134143   \n",
       "min      0.022643    0.396103         0.005565    0.014996    0.010165   \n",
       "25%      0.679481    1.049448         0.397523    0.309410    0.155138   \n",
       "50%      1.066948    1.254751         0.613212    0.440306    0.231538   \n",
       "75%      1.319453    1.415360         0.726798    0.518631    0.325296   \n",
       "max      1.870766    1.610574         0.949492    0.658249    0.838075   \n",
       "\n",
       "       Government_Corruption  Dystopia.Residual  \n",
       "count             153.000000         154.000000  \n",
       "mean                0.124360           1.848837  \n",
       "std                 0.101688           0.501354  \n",
       "min                 0.004388           0.377914  \n",
       "25%                 0.059308           1.587952  \n",
       "50%                 0.089981           1.829808  \n",
       "75%                 0.153527           2.147727  \n",
       "max                 0.464308           3.117485  "
      ]
     },
     "execution_count": 86,
     "metadata": {},
     "output_type": "execute_result"
    }
   ],
   "source": [
    "# Family and money are the two variables that affect the most to increase the Happiness Score because are the ones \n",
    "# with a higher mean and the Happiness Score is calculated by summing the Scores foe each variable\n",
    "\n",
    "hp[['GDP_Capita','Family', 'Life_Expectancy','Freedom','Generosity','Government_Corruption','Dystopia.Residual']].describe()\n"
   ]
  },
  {
   "cell_type": "markdown",
   "metadata": {},
   "source": [
    "### Let's see the correlation between variables"
   ]
  },
  {
   "cell_type": "code",
   "execution_count": 87,
   "metadata": {},
   "outputs": [
    {
     "data": {
      "text/html": [
       "<div>\n",
       "<style>\n",
       "    .dataframe thead tr:only-child th {\n",
       "        text-align: right;\n",
       "    }\n",
       "\n",
       "    .dataframe thead th {\n",
       "        text-align: left;\n",
       "    }\n",
       "\n",
       "    .dataframe tbody tr th {\n",
       "        vertical-align: top;\n",
       "    }\n",
       "</style>\n",
       "<table border=\"1\" class=\"dataframe\">\n",
       "  <thead>\n",
       "    <tr style=\"text-align: right;\">\n",
       "      <th></th>\n",
       "      <th>Ranking</th>\n",
       "      <th>Happiness_Score</th>\n",
       "      <th>GDP_Capita</th>\n",
       "      <th>Family</th>\n",
       "      <th>Life_Expectancy</th>\n",
       "      <th>Freedom</th>\n",
       "      <th>Generosity</th>\n",
       "      <th>Government_Corruption</th>\n",
       "      <th>Dystopia.Residual</th>\n",
       "    </tr>\n",
       "  </thead>\n",
       "  <tbody>\n",
       "    <tr>\n",
       "      <th>Ranking</th>\n",
       "      <td>1.000000</td>\n",
       "      <td>-0.993970</td>\n",
       "      <td>-0.809302</td>\n",
       "      <td>-0.739723</td>\n",
       "      <td>-0.773499</td>\n",
       "      <td>-0.539737</td>\n",
       "      <td>-0.135755</td>\n",
       "      <td>-0.402777</td>\n",
       "      <td>-0.494419</td>\n",
       "    </tr>\n",
       "    <tr>\n",
       "      <th>Happiness_Score</th>\n",
       "      <td>-0.993970</td>\n",
       "      <td>1.000000</td>\n",
       "      <td>0.805470</td>\n",
       "      <td>0.744847</td>\n",
       "      <td>0.771621</td>\n",
       "      <td>0.560005</td>\n",
       "      <td>0.162367</td>\n",
       "      <td>0.428165</td>\n",
       "      <td>0.491247</td>\n",
       "    </tr>\n",
       "    <tr>\n",
       "      <th>GDP_Capita</th>\n",
       "      <td>-0.809302</td>\n",
       "      <td>0.805470</td>\n",
       "      <td>1.000000</td>\n",
       "      <td>0.675419</td>\n",
       "      <td>0.838987</td>\n",
       "      <td>0.366835</td>\n",
       "      <td>-0.006884</td>\n",
       "      <td>0.349216</td>\n",
       "      <td>0.031412</td>\n",
       "    </tr>\n",
       "    <tr>\n",
       "      <th>Family</th>\n",
       "      <td>-0.739723</td>\n",
       "      <td>0.744847</td>\n",
       "      <td>0.675419</td>\n",
       "      <td>1.000000</td>\n",
       "      <td>0.605873</td>\n",
       "      <td>0.430485</td>\n",
       "      <td>0.064716</td>\n",
       "      <td>0.225062</td>\n",
       "      <td>0.087257</td>\n",
       "    </tr>\n",
       "    <tr>\n",
       "      <th>Life_Expectancy</th>\n",
       "      <td>-0.773499</td>\n",
       "      <td>0.771621</td>\n",
       "      <td>0.838987</td>\n",
       "      <td>0.605873</td>\n",
       "      <td>1.000000</td>\n",
       "      <td>0.320745</td>\n",
       "      <td>0.073249</td>\n",
       "      <td>0.286516</td>\n",
       "      <td>0.050387</td>\n",
       "    </tr>\n",
       "    <tr>\n",
       "      <th>Freedom</th>\n",
       "      <td>-0.539737</td>\n",
       "      <td>0.560005</td>\n",
       "      <td>0.366835</td>\n",
       "      <td>0.430485</td>\n",
       "      <td>0.320745</td>\n",
       "      <td>1.000000</td>\n",
       "      <td>0.289114</td>\n",
       "      <td>0.495024</td>\n",
       "      <td>0.078412</td>\n",
       "    </tr>\n",
       "    <tr>\n",
       "      <th>Generosity</th>\n",
       "      <td>-0.135755</td>\n",
       "      <td>0.162367</td>\n",
       "      <td>-0.006884</td>\n",
       "      <td>0.064716</td>\n",
       "      <td>0.073249</td>\n",
       "      <td>0.289114</td>\n",
       "      <td>1.000000</td>\n",
       "      <td>0.296687</td>\n",
       "      <td>-0.121169</td>\n",
       "    </tr>\n",
       "    <tr>\n",
       "      <th>Government_Corruption</th>\n",
       "      <td>-0.402777</td>\n",
       "      <td>0.428165</td>\n",
       "      <td>0.349216</td>\n",
       "      <td>0.225062</td>\n",
       "      <td>0.286516</td>\n",
       "      <td>0.495024</td>\n",
       "      <td>0.296687</td>\n",
       "      <td>1.000000</td>\n",
       "      <td>-0.020360</td>\n",
       "    </tr>\n",
       "    <tr>\n",
       "      <th>Dystopia.Residual</th>\n",
       "      <td>-0.494419</td>\n",
       "      <td>0.491247</td>\n",
       "      <td>0.031412</td>\n",
       "      <td>0.087257</td>\n",
       "      <td>0.050387</td>\n",
       "      <td>0.078412</td>\n",
       "      <td>-0.121169</td>\n",
       "      <td>-0.020360</td>\n",
       "      <td>1.000000</td>\n",
       "    </tr>\n",
       "  </tbody>\n",
       "</table>\n",
       "</div>"
      ],
      "text/plain": [
       "                        Ranking  Happiness_Score  GDP_Capita    Family  \\\n",
       "Ranking                1.000000        -0.993970   -0.809302 -0.739723   \n",
       "Happiness_Score       -0.993970         1.000000    0.805470  0.744847   \n",
       "GDP_Capita            -0.809302         0.805470    1.000000  0.675419   \n",
       "Family                -0.739723         0.744847    0.675419  1.000000   \n",
       "Life_Expectancy       -0.773499         0.771621    0.838987  0.605873   \n",
       "Freedom               -0.539737         0.560005    0.366835  0.430485   \n",
       "Generosity            -0.135755         0.162367   -0.006884  0.064716   \n",
       "Government_Corruption -0.402777         0.428165    0.349216  0.225062   \n",
       "Dystopia.Residual     -0.494419         0.491247    0.031412  0.087257   \n",
       "\n",
       "                       Life_Expectancy   Freedom  Generosity  \\\n",
       "Ranking                      -0.773499 -0.539737   -0.135755   \n",
       "Happiness_Score               0.771621  0.560005    0.162367   \n",
       "GDP_Capita                    0.838987  0.366835   -0.006884   \n",
       "Family                        0.605873  0.430485    0.064716   \n",
       "Life_Expectancy               1.000000  0.320745    0.073249   \n",
       "Freedom                       0.320745  1.000000    0.289114   \n",
       "Generosity                    0.073249  0.289114    1.000000   \n",
       "Government_Corruption         0.286516  0.495024    0.296687   \n",
       "Dystopia.Residual             0.050387  0.078412   -0.121169   \n",
       "\n",
       "                       Government_Corruption  Dystopia.Residual  \n",
       "Ranking                            -0.402777          -0.494419  \n",
       "Happiness_Score                     0.428165           0.491247  \n",
       "GDP_Capita                          0.349216           0.031412  \n",
       "Family                              0.225062           0.087257  \n",
       "Life_Expectancy                     0.286516           0.050387  \n",
       "Freedom                             0.495024           0.078412  \n",
       "Generosity                          0.296687          -0.121169  \n",
       "Government_Corruption               1.000000          -0.020360  \n",
       "Dystopia.Residual                  -0.020360           1.000000  "
      ]
     },
     "execution_count": 87,
     "metadata": {},
     "output_type": "execute_result"
    }
   ],
   "source": [
    "hp.corr()"
   ]
  },
  {
   "cell_type": "markdown",
   "metadata": {},
   "source": [
    "#### Happiness_Score / GBP_Capita correlation"
   ]
  },
  {
   "cell_type": "code",
   "execution_count": 131,
   "metadata": {},
   "outputs": [
    {
     "data": {
      "image/png": "[encoded data removed]",
      "text/plain": [
       "<matplotlib.figure.Figure at 0x1a209e0a20>"
      ]
     },
     "metadata": {},
     "output_type": "display_data"
    }
   ],
   "source": [
    "# Esto es la correlación? \n",
    "# cómo pongo labebls?\n",
    "\n",
    "plt.scatter(hp['GDP_Capita'], hp['Happiness_Score'])\n",
    "plt.show()\n",
    "\n",
    "# GDP_Capita --> How wealthy is a country"
   ]
  },
  {
   "cell_type": "code",
   "execution_count": 143,
   "metadata": {},
   "outputs": [
    {
     "data": {
      "text/plain": [
       "<seaborn.axisgrid.PairGrid at 0x1a207e1160>"
      ]
     },
     "execution_count": 143,
     "metadata": {},
     "output_type": "execute_result"
    },
    {
     "data": {
      "image/png": "[encoded data removed]",
      "text/plain": [
       "<matplotlib.figure.Figure at 0x1a20813160>"
      ]
     },
     "metadata": {},
     "output_type": "display_data"
    }
   ],
   "source": [
    "sns.pairplot(hp, x_vars = 'GDP_Capita' , y_vars = 'Happiness_Score', size = 4, kind = 'reg')"
   ]
  },
  {
   "cell_type": "markdown",
   "metadata": {},
   "source": [
    "#### Happiness_Score / Family correlation\n"
   ]
  },
  {
   "cell_type": "code",
   "execution_count": 117,
   "metadata": {},
   "outputs": [
    {
     "data": {
      "image/png": "[encoded data removed]",
      "text/plain": [
       "<matplotlib.figure.Figure at 0x1a205e1048>"
      ]
     },
     "metadata": {},
     "output_type": "display_data"
    }
   ],
   "source": [
    "plt.scatter( hp['Family'], hp['Happiness_Score'])\n",
    "plt.show()\n",
    "\n",
    "# Family \"If you were in trouble, do you have relatives or friends you can count on to help you whenever you need \n",
    "# them, or not?\" People were only able to answer with a yes or no. A yes would equal 1 and a no would equal 0. \n",
    "# The average of all answers results in a single value that represents the amount of social support that is present \n",
    "# in a country."
   ]
  },
  {
   "cell_type": "code",
   "execution_count": 144,
   "metadata": {},
   "outputs": [
    {
     "data": {
      "text/plain": [
       "<seaborn.axisgrid.PairGrid at 0x1a209c9588>"
      ]
     },
     "execution_count": 144,
     "metadata": {},
     "output_type": "execute_result"
    },
    {
     "data": {
      "image/png": "[encoded data removed]",
      "text/plain": [
       "<matplotlib.figure.Figure at 0x1a209c92e8>"
      ]
     },
     "metadata": {},
     "output_type": "display_data"
    }
   ],
   "source": [
    "sns.pairplot(hp, x_vars = 'Family' , y_vars = 'Happiness_Score', size = 4, kind = 'reg')"
   ]
  },
  {
   "cell_type": "markdown",
   "metadata": {},
   "source": [
    "#### Happiness_Score / Life_expectancy correlation\n"
   ]
  },
  {
   "cell_type": "code",
   "execution_count": 119,
   "metadata": {},
   "outputs": [
    {
     "data": {
      "image/png": "[encoded data removed]",
      "text/plain": [
       "<matplotlib.figure.Figure at 0x1a2044fda0>"
      ]
     },
     "metadata": {},
     "output_type": "display_data"
    }
   ],
   "source": [
    "plt.scatter(hp['Life_Expectancy'], hp['Happiness_Score'])\n",
    "plt.show()"
   ]
  },
  {
   "cell_type": "code",
   "execution_count": 161,
   "metadata": {
    "scrolled": true
   },
   "outputs": [
    {
     "data": {
      "text/plain": [
       "<matplotlib.axes._subplots.AxesSubplot at 0x1a2288ecf8>"
      ]
     },
     "execution_count": 161,
     "metadata": {},
     "output_type": "execute_result"
    },
    {
     "data": {
      "image/png": "[encoded data removed]",
      "text/plain": [
       "<matplotlib.figure.Figure at 0x1a21e1d048>"
      ]
     },
     "metadata": {},
     "output_type": "display_data"
    }
   ],
   "source": [
    "fig, ax = plt.subplots(1,1, figsize=(5,5))\n",
    "sns.regplot(hp['Life_Expectancy'], hp['Happiness_Score'], scatter = True, ax = ax)"
   ]
  },
  {
   "cell_type": "code",
   "execution_count": 145,
   "metadata": {},
   "outputs": [
    {
     "data": {
      "text/plain": [
       "<seaborn.axisgrid.PairGrid at 0x1a20499c18>"
      ]
     },
     "execution_count": 145,
     "metadata": {},
     "output_type": "execute_result"
    },
    {
     "data": {
      "image/png": "[encoded data removed]",
      "text/plain": [
       "<matplotlib.figure.Figure at 0x1a20499fd0>"
      ]
     },
     "metadata": {},
     "output_type": "display_data"
    }
   ],
   "source": [
    "sns.pairplot(hp, x_vars = 'Life_Expectancy' , y_vars = 'Happiness_Score', size = 4, kind = 'reg')"
   ]
  },
  {
   "cell_type": "code",
   "execution_count": null,
   "metadata": {
    "collapsed": true
   },
   "outputs": [],
   "source": [
    "# This data it taken from the Global Health Observatory (GHO), average number of \"healthy\" years a child at birth \n",
    "# is estimated to live."
   ]
  },
  {
   "cell_type": "markdown",
   "metadata": {},
   "source": [
    "#### Happiness_Score / Freedom correlation\n"
   ]
  },
  {
   "cell_type": "code",
   "execution_count": 133,
   "metadata": {},
   "outputs": [
    {
     "data": {
      "image/png": "[encoded data removed]",
      "text/plain": [
       "<matplotlib.figure.Figure at 0x1a209a0f60>"
      ]
     },
     "metadata": {},
     "output_type": "display_data"
    }
   ],
   "source": [
    "# \"Are you satisfied or dissatisfied with your freedom to choose what you do with your life?\"\n",
    "plt.scatter( hp['Freedom'],hp['Happiness_Score'])\n",
    "plt.show()"
   ]
  },
  {
   "cell_type": "code",
   "execution_count": 147,
   "metadata": {},
   "outputs": [
    {
     "data": {
      "text/plain": [
       "<seaborn.axisgrid.PairGrid at 0x1a20908da0>"
      ]
     },
     "execution_count": 147,
     "metadata": {},
     "output_type": "execute_result"
    },
    {
     "data": {
      "image/png": "[encoded data removed]",
      "text/plain": [
       "<matplotlib.figure.Figure at 0x1a20908dd8>"
      ]
     },
     "metadata": {},
     "output_type": "display_data"
    }
   ],
   "source": [
    "sns.pairplot(hp, x_vars = 'Freedom' , y_vars = 'Happiness_Score', size = 4, kind = 'reg')"
   ]
  },
  {
   "cell_type": "markdown",
   "metadata": {},
   "source": [
    "#### As we can see GDP_Capita is the most correlated followed by Family, Life Expectancy and Freedom where we can still observe a correlation. "
   ]
  },
  {
   "cell_type": "markdown",
   "metadata": {},
   "source": [
    "#### Happiness_Score / Generosity correlation\n"
   ]
  },
  {
   "cell_type": "code",
   "execution_count": 122,
   "metadata": {},
   "outputs": [
    {
     "data": {
      "image/png": "[encoded data removed]",
      "text/plain": [
       "<matplotlib.figure.Figure at 0x10fa86e48>"
      ]
     },
     "metadata": {},
     "output_type": "display_data"
    }
   ],
   "source": [
    "plt.scatter( hp['Generosity'], hp['Happiness_Score'])\n",
    "plt.show()"
   ]
  },
  {
   "cell_type": "code",
   "execution_count": 146,
   "metadata": {},
   "outputs": [
    {
     "data": {
      "text/plain": [
       "<seaborn.axisgrid.PairGrid at 0x1a1703d208>"
      ]
     },
     "execution_count": 146,
     "metadata": {},
     "output_type": "execute_result"
    },
    {
     "data": {
      "image/png": "[encoded data removed]",
      "text/plain": [
       "<matplotlib.figure.Figure at 0x1a2065bd30>"
      ]
     },
     "metadata": {},
     "output_type": "display_data"
    }
   ],
   "source": [
    "sns.pairplot(hp, x_vars = 'Generosity' , y_vars = 'Happiness_Score', size = 4, kind = 'reg')"
   ]
  },
  {
   "cell_type": "code",
   "execution_count": 128,
   "metadata": {
    "collapsed": true
   },
   "outputs": [],
   "source": [
    "## Generosity has no correlaction with the Happiness Score. The question to measure if a country was generous or not\n",
    "## was: \"Have you donated money to a charity in the past month?\", it would be interesting to use another question to \n",
    "## measure the generosity of the country and see how this changes the correlation."
   ]
  },
  {
   "cell_type": "markdown",
   "metadata": {},
   "source": [
    "#### Happiness_Score / Government Corruption"
   ]
  },
  {
   "cell_type": "code",
   "execution_count": 129,
   "metadata": {},
   "outputs": [
    {
     "data": {
      "image/png": "[encoded data removed]",
      "text/plain": [
       "<matplotlib.figure.Figure at 0x1a207edef0>"
      ]
     },
     "metadata": {},
     "output_type": "display_data"
    }
   ],
   "source": [
    "plt.scatter(hp['Government_Corruption'], hp['Happiness_Score'])\n",
    "plt.show()"
   ]
  },
  {
   "cell_type": "code",
   "execution_count": 148,
   "metadata": {},
   "outputs": [
    {
     "data": {
      "text/plain": [
       "<seaborn.axisgrid.PairGrid at 0x1a205f45f8>"
      ]
     },
     "execution_count": 148,
     "metadata": {},
     "output_type": "execute_result"
    },
    {
     "data": {
      "image/png": "[encoded data removed]",
      "text/plain": [
       "<matplotlib.figure.Figure at 0x1a1f801fd0>"
      ]
     },
     "metadata": {},
     "output_type": "display_data"
    }
   ],
   "source": [
    "sns.pairplot(hp, x_vars = 'Government_Corruption' , y_vars = 'Happiness_Score', size = 4, kind = 'reg')"
   ]
  },
  {
   "cell_type": "code",
   "execution_count": 126,
   "metadata": {},
   "outputs": [
    {
     "data": {
      "text/plain": [
       "<matplotlib.axes._subplots.AxesSubplot at 0x1a2062ac88>"
      ]
     },
     "execution_count": 126,
     "metadata": {},
     "output_type": "execute_result"
    },
    {
     "data": {
      "image/png": "[encoded data removed]",
      "text/plain": [
       "<matplotlib.figure.Figure at 0x1a205e6b00>"
      ]
     },
     "metadata": {},
     "output_type": "display_data"
    }
   ],
   "source": [
    "hp.boxplot('Government_Corruption')"
   ]
  },
  {
   "cell_type": "code",
   "execution_count": 130,
   "metadata": {
    "collapsed": true
   },
   "outputs": [],
   "source": [
    "# The question was: 'Trust in the government' and as we can see mainly countrys do not trust in their governments. \n",
    "### we can observe, there are countries that does not trust in their govern with a high happiness score and countries \n",
    "# that do not trust in their governments with low happiness score."
   ]
  },
  {
   "cell_type": "code",
   "execution_count": 124,
   "metadata": {},
   "outputs": [
    {
     "data": {
      "image/png": "[encoded data removed]",
      "text/plain": [
       "<matplotlib.figure.Figure at 0x1a202897b8>"
      ]
     },
     "metadata": {},
     "output_type": "display_data"
    }
   ],
   "source": [
    "plt.scatter(hp['Dystopia.Residual'], hp['Happiness_Score'])\n",
    "plt.show()"
   ]
  },
  {
   "cell_type": "code",
   "execution_count": 149,
   "metadata": {},
   "outputs": [
    {
     "data": {
      "text/plain": [
       "<seaborn.axisgrid.PairGrid at 0x1a1f8ff780>"
      ]
     },
     "execution_count": 149,
     "metadata": {},
     "output_type": "execute_result"
    },
    {
     "data": {
      "image/png": "[encoded data removed]",
      "text/plain": [
       "<matplotlib.figure.Figure at 0x1a1f8ffd68>"
      ]
     },
     "metadata": {},
     "output_type": "display_data"
    }
   ],
   "source": [
    "sns.pairplot(hp, x_vars = 'Dystopia.Residual' , y_vars = 'Happiness_Score', size = 4, kind = 'reg')"
   ]
  },
  {
   "cell_type": "code",
   "execution_count": 132,
   "metadata": {
    "collapsed": true
   },
   "outputs": [],
   "source": [
    "## Dystopia residual has a moderate correlation, that means that others factors somehow may have some relation \n",
    "## with the happiness score but not a strog one."
   ]
  }
 ],
 "metadata": {
  "kernelspec": {
   "display_name": "Python 3",
   "language": "python",
   "name": "python3"
  },
  "language_info": {
   "codemirror_mode": {
    "name": "ipython",
    "version": 3
   },
   "file_extension": ".py",
   "mimetype": "text/x-python",
   "name": "python",
   "nbconvert_exporter": "python",
   "pygments_lexer": "ipython3",
   "version": "3.6.2"
  }
 },
 "nbformat": 4,
 "nbformat_minor": 2
}
